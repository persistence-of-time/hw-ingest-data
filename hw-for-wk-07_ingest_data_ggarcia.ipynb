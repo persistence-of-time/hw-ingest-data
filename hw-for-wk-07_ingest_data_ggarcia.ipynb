{
 "cells": [
  {
   "cell_type": "markdown",
   "id": "1d64966a",
   "metadata": {},
   "source": [
    "## Pandas - Importing data"
   ]
  },
  {
   "cell_type": "code",
   "execution_count": 1,
   "id": "e8c6fb4b",
   "metadata": {},
   "outputs": [],
   "source": [
    "## import the pandas library in this cell\n",
    "import pandas as pd\n"
   ]
  },
  {
   "cell_type": "markdown",
   "id": "415d55dd",
   "metadata": {},
   "source": [
    "### Ingest the following dataset into this note:\n",
    "\n",
    "- ```ems_2019_first_6_months.csv``` into a dataframe named ```ems_19_first_df```"
   ]
  },
  {
   "cell_type": "code",
   "execution_count": 2,
   "id": "2609f6fb",
   "metadata": {},
   "outputs": [],
   "source": [
    "## import data and store in dataframe\n",
    "df = pd.read_csv (r\"/Users/gustavo/Documents/data-journalism/week-6/Homework/wk7-data/ems_2019_first_6_months.csv\")"
   ]
  },
  {
   "cell_type": "code",
   "execution_count": 3,
   "id": "ec3cb6b2",
   "metadata": {},
   "outputs": [
    {
     "data": {
      "text/html": [
       "<div>\n",
       "<style scoped>\n",
       "    .dataframe tbody tr th:only-of-type {\n",
       "        vertical-align: middle;\n",
       "    }\n",
       "\n",
       "    .dataframe tbody tr th {\n",
       "        vertical-align: top;\n",
       "    }\n",
       "\n",
       "    .dataframe thead th {\n",
       "        text-align: right;\n",
       "    }\n",
       "</style>\n",
       "<table border=\"1\" class=\"dataframe\">\n",
       "  <thead>\n",
       "    <tr style=\"text-align: right;\">\n",
       "      <th></th>\n",
       "      <th>CAD_INCIDENT_ID</th>\n",
       "      <th>INCIDENT_DATETIME</th>\n",
       "      <th>INITIAL_CALL_TYPE</th>\n",
       "      <th>INITIAL_SEVERITY_LEVEL_CODE</th>\n",
       "      <th>FINAL_CALL_TYPE</th>\n",
       "      <th>FINAL_SEVERITY_LEVEL_CODE</th>\n",
       "      <th>FIRST_ASSIGNMENT_DATETIME</th>\n",
       "      <th>VALID_DISPATCH_RSPNS_TIME_INDC</th>\n",
       "      <th>DISPATCH_RESPONSE_SECONDS_QY</th>\n",
       "      <th>FIRST_ACTIVATION_DATETIME</th>\n",
       "      <th>...</th>\n",
       "      <th>POLICEPRECINCT</th>\n",
       "      <th>CITYCOUNCILDISTRICT</th>\n",
       "      <th>COMMUNITYDISTRICT</th>\n",
       "      <th>COMMUNITYSCHOOLDISTRICT</th>\n",
       "      <th>CONGRESSIONALDISTRICT</th>\n",
       "      <th>REOPEN_INDICATOR</th>\n",
       "      <th>SPECIAL_EVENT_INDICATOR</th>\n",
       "      <th>STANDBY_INDICATOR</th>\n",
       "      <th>TRANSFER_INDICATOR</th>\n",
       "      <th>source</th>\n",
       "    </tr>\n",
       "  </thead>\n",
       "  <tbody>\n",
       "    <tr>\n",
       "      <th>0</th>\n",
       "      <td>190010111</td>\n",
       "      <td>2019-01-01 00:24:51</td>\n",
       "      <td>SICK</td>\n",
       "      <td>6</td>\n",
       "      <td>SICK</td>\n",
       "      <td>6</td>\n",
       "      <td>01/01/2019 12:25:28 AM</td>\n",
       "      <td>Y</td>\n",
       "      <td>37</td>\n",
       "      <td>01/01/2019 12:25:56 AM</td>\n",
       "      <td>...</td>\n",
       "      <td>9.0</td>\n",
       "      <td>2.0</td>\n",
       "      <td>103.0</td>\n",
       "      <td>1.0</td>\n",
       "      <td>12.0</td>\n",
       "      <td>N</td>\n",
       "      <td>N</td>\n",
       "      <td>N</td>\n",
       "      <td>N</td>\n",
       "      <td>chunk10.csv</td>\n",
       "    </tr>\n",
       "    <tr>\n",
       "      <th>1</th>\n",
       "      <td>190010112</td>\n",
       "      <td>2019-01-01 00:25:22</td>\n",
       "      <td>DRUG</td>\n",
       "      <td>4</td>\n",
       "      <td>DRUG</td>\n",
       "      <td>4</td>\n",
       "      <td>01/01/2019 12:25:39 AM</td>\n",
       "      <td>Y</td>\n",
       "      <td>17</td>\n",
       "      <td>01/01/2019 12:26:03 AM</td>\n",
       "      <td>...</td>\n",
       "      <td>23.0</td>\n",
       "      <td>9.0</td>\n",
       "      <td>111.0</td>\n",
       "      <td>4.0</td>\n",
       "      <td>13.0</td>\n",
       "      <td>N</td>\n",
       "      <td>N</td>\n",
       "      <td>N</td>\n",
       "      <td>N</td>\n",
       "      <td>chunk10.csv</td>\n",
       "    </tr>\n",
       "    <tr>\n",
       "      <th>2</th>\n",
       "      <td>190010113</td>\n",
       "      <td>2019-01-01 00:25:52</td>\n",
       "      <td>DRUG</td>\n",
       "      <td>4</td>\n",
       "      <td>DRUG</td>\n",
       "      <td>4</td>\n",
       "      <td>01/01/2019 12:25:57 AM</td>\n",
       "      <td>Y</td>\n",
       "      <td>5</td>\n",
       "      <td>01/01/2019 12:26:11 AM</td>\n",
       "      <td>...</td>\n",
       "      <td>63.0</td>\n",
       "      <td>45.0</td>\n",
       "      <td>318.0</td>\n",
       "      <td>22.0</td>\n",
       "      <td>8.0</td>\n",
       "      <td>N</td>\n",
       "      <td>N</td>\n",
       "      <td>N</td>\n",
       "      <td>N</td>\n",
       "      <td>chunk13.csv</td>\n",
       "    </tr>\n",
       "    <tr>\n",
       "      <th>3</th>\n",
       "      <td>190010114</td>\n",
       "      <td>2019-01-01 00:25:52</td>\n",
       "      <td>OBMAJ</td>\n",
       "      <td>3</td>\n",
       "      <td>OBMAJ</td>\n",
       "      <td>3</td>\n",
       "      <td>01/01/2019 12:26:13 AM</td>\n",
       "      <td>Y</td>\n",
       "      <td>21</td>\n",
       "      <td>01/01/2019 12:26:24 AM</td>\n",
       "      <td>...</td>\n",
       "      <td>106.0</td>\n",
       "      <td>32.0</td>\n",
       "      <td>410.0</td>\n",
       "      <td>27.0</td>\n",
       "      <td>8.0</td>\n",
       "      <td>N</td>\n",
       "      <td>N</td>\n",
       "      <td>N</td>\n",
       "      <td>N</td>\n",
       "      <td>chunk14.csv</td>\n",
       "    </tr>\n",
       "    <tr>\n",
       "      <th>4</th>\n",
       "      <td>190010115</td>\n",
       "      <td>2019-01-01 00:26:03</td>\n",
       "      <td>EDP</td>\n",
       "      <td>7</td>\n",
       "      <td>EDP</td>\n",
       "      <td>7</td>\n",
       "      <td>01/01/2019 12:26:12 AM</td>\n",
       "      <td>Y</td>\n",
       "      <td>9</td>\n",
       "      <td>01/01/2019 12:26:29 AM</td>\n",
       "      <td>...</td>\n",
       "      <td>101.0</td>\n",
       "      <td>31.0</td>\n",
       "      <td>414.0</td>\n",
       "      <td>27.0</td>\n",
       "      <td>5.0</td>\n",
       "      <td>N</td>\n",
       "      <td>N</td>\n",
       "      <td>N</td>\n",
       "      <td>N</td>\n",
       "      <td>chunk14.csv</td>\n",
       "    </tr>\n",
       "    <tr>\n",
       "      <th>5</th>\n",
       "      <td>190073272</td>\n",
       "      <td>2019-01-07 17:49:43</td>\n",
       "      <td>EDP</td>\n",
       "      <td>7</td>\n",
       "      <td>EDP</td>\n",
       "      <td>7</td>\n",
       "      <td>01/07/2019 05:49:50 PM</td>\n",
       "      <td>Y</td>\n",
       "      <td>7</td>\n",
       "      <td>01/07/2019 05:50:04 PM</td>\n",
       "      <td>...</td>\n",
       "      <td>17.0</td>\n",
       "      <td>5.0</td>\n",
       "      <td>106.0</td>\n",
       "      <td>2.0</td>\n",
       "      <td>12.0</td>\n",
       "      <td>N</td>\n",
       "      <td>N</td>\n",
       "      <td>N</td>\n",
       "      <td>N</td>\n",
       "      <td>chunk149.csv</td>\n",
       "    </tr>\n",
       "    <tr>\n",
       "      <th>6</th>\n",
       "      <td>190073416</td>\n",
       "      <td>2019-01-07 18:27:54</td>\n",
       "      <td>EDP</td>\n",
       "      <td>7</td>\n",
       "      <td>EDP</td>\n",
       "      <td>7</td>\n",
       "      <td>01/07/2019 06:28:33 PM</td>\n",
       "      <td>Y</td>\n",
       "      <td>39</td>\n",
       "      <td>01/07/2019 06:28:44 PM</td>\n",
       "      <td>...</td>\n",
       "      <td>6.0</td>\n",
       "      <td>3.0</td>\n",
       "      <td>102.0</td>\n",
       "      <td>2.0</td>\n",
       "      <td>10.0</td>\n",
       "      <td>N</td>\n",
       "      <td>N</td>\n",
       "      <td>N</td>\n",
       "      <td>N</td>\n",
       "      <td>chunk149.csv</td>\n",
       "    </tr>\n",
       "    <tr>\n",
       "      <th>7</th>\n",
       "      <td>190081434</td>\n",
       "      <td>2019-01-08 10:28:31</td>\n",
       "      <td>UNKNOW</td>\n",
       "      <td>4</td>\n",
       "      <td>UNKNOW</td>\n",
       "      <td>4</td>\n",
       "      <td>01/08/2019 10:29:19 AM</td>\n",
       "      <td>Y</td>\n",
       "      <td>48</td>\n",
       "      <td>01/08/2019 10:29:36 AM</td>\n",
       "      <td>...</td>\n",
       "      <td>NaN</td>\n",
       "      <td>NaN</td>\n",
       "      <td>NaN</td>\n",
       "      <td>NaN</td>\n",
       "      <td>NaN</td>\n",
       "      <td>N</td>\n",
       "      <td>N</td>\n",
       "      <td>N</td>\n",
       "      <td>N</td>\n",
       "      <td>chunk149.csv</td>\n",
       "    </tr>\n",
       "    <tr>\n",
       "      <th>8</th>\n",
       "      <td>190081743</td>\n",
       "      <td>2019-01-08 11:43:35</td>\n",
       "      <td>UNKNOW</td>\n",
       "      <td>4</td>\n",
       "      <td>UNKNOW</td>\n",
       "      <td>4</td>\n",
       "      <td>01/08/2019 11:43:47 AM</td>\n",
       "      <td>Y</td>\n",
       "      <td>12</td>\n",
       "      <td>01/08/2019 11:43:55 AM</td>\n",
       "      <td>...</td>\n",
       "      <td>7.0</td>\n",
       "      <td>1.0</td>\n",
       "      <td>103.0</td>\n",
       "      <td>2.0</td>\n",
       "      <td>12.0</td>\n",
       "      <td>N</td>\n",
       "      <td>N</td>\n",
       "      <td>N</td>\n",
       "      <td>N</td>\n",
       "      <td>chunk149.csv</td>\n",
       "    </tr>\n",
       "    <tr>\n",
       "      <th>9</th>\n",
       "      <td>190081744</td>\n",
       "      <td>2019-01-08 11:43:48</td>\n",
       "      <td>EDP</td>\n",
       "      <td>7</td>\n",
       "      <td>EDP</td>\n",
       "      <td>7</td>\n",
       "      <td>01/08/2019 11:43:59 AM</td>\n",
       "      <td>Y</td>\n",
       "      <td>11</td>\n",
       "      <td>01/08/2019 11:44:30 AM</td>\n",
       "      <td>...</td>\n",
       "      <td>44.0</td>\n",
       "      <td>16.0</td>\n",
       "      <td>204.0</td>\n",
       "      <td>9.0</td>\n",
       "      <td>15.0</td>\n",
       "      <td>N</td>\n",
       "      <td>N</td>\n",
       "      <td>N</td>\n",
       "      <td>N</td>\n",
       "      <td>chunk149.csv</td>\n",
       "    </tr>\n",
       "  </tbody>\n",
       "</table>\n",
       "<p>10 rows × 32 columns</p>\n",
       "</div>"
      ],
      "text/plain": [
       "   CAD_INCIDENT_ID    INCIDENT_DATETIME INITIAL_CALL_TYPE  \\\n",
       "0        190010111  2019-01-01 00:24:51              SICK   \n",
       "1        190010112  2019-01-01 00:25:22              DRUG   \n",
       "2        190010113  2019-01-01 00:25:52              DRUG   \n",
       "3        190010114  2019-01-01 00:25:52             OBMAJ   \n",
       "4        190010115  2019-01-01 00:26:03               EDP   \n",
       "5        190073272  2019-01-07 17:49:43               EDP   \n",
       "6        190073416  2019-01-07 18:27:54               EDP   \n",
       "7        190081434  2019-01-08 10:28:31            UNKNOW   \n",
       "8        190081743  2019-01-08 11:43:35            UNKNOW   \n",
       "9        190081744  2019-01-08 11:43:48               EDP   \n",
       "\n",
       "   INITIAL_SEVERITY_LEVEL_CODE FINAL_CALL_TYPE  FINAL_SEVERITY_LEVEL_CODE  \\\n",
       "0                            6            SICK                          6   \n",
       "1                            4            DRUG                          4   \n",
       "2                            4            DRUG                          4   \n",
       "3                            3           OBMAJ                          3   \n",
       "4                            7             EDP                          7   \n",
       "5                            7             EDP                          7   \n",
       "6                            7             EDP                          7   \n",
       "7                            4          UNKNOW                          4   \n",
       "8                            4          UNKNOW                          4   \n",
       "9                            7             EDP                          7   \n",
       "\n",
       "  FIRST_ASSIGNMENT_DATETIME VALID_DISPATCH_RSPNS_TIME_INDC  \\\n",
       "0    01/01/2019 12:25:28 AM                              Y   \n",
       "1    01/01/2019 12:25:39 AM                              Y   \n",
       "2    01/01/2019 12:25:57 AM                              Y   \n",
       "3    01/01/2019 12:26:13 AM                              Y   \n",
       "4    01/01/2019 12:26:12 AM                              Y   \n",
       "5    01/07/2019 05:49:50 PM                              Y   \n",
       "6    01/07/2019 06:28:33 PM                              Y   \n",
       "7    01/08/2019 10:29:19 AM                              Y   \n",
       "8    01/08/2019 11:43:47 AM                              Y   \n",
       "9    01/08/2019 11:43:59 AM                              Y   \n",
       "\n",
       "   DISPATCH_RESPONSE_SECONDS_QY FIRST_ACTIVATION_DATETIME  ... POLICEPRECINCT  \\\n",
       "0                            37    01/01/2019 12:25:56 AM  ...            9.0   \n",
       "1                            17    01/01/2019 12:26:03 AM  ...           23.0   \n",
       "2                             5    01/01/2019 12:26:11 AM  ...           63.0   \n",
       "3                            21    01/01/2019 12:26:24 AM  ...          106.0   \n",
       "4                             9    01/01/2019 12:26:29 AM  ...          101.0   \n",
       "5                             7    01/07/2019 05:50:04 PM  ...           17.0   \n",
       "6                            39    01/07/2019 06:28:44 PM  ...            6.0   \n",
       "7                            48    01/08/2019 10:29:36 AM  ...            NaN   \n",
       "8                            12    01/08/2019 11:43:55 AM  ...            7.0   \n",
       "9                            11    01/08/2019 11:44:30 AM  ...           44.0   \n",
       "\n",
       "  CITYCOUNCILDISTRICT  COMMUNITYDISTRICT  COMMUNITYSCHOOLDISTRICT  \\\n",
       "0                 2.0              103.0                      1.0   \n",
       "1                 9.0              111.0                      4.0   \n",
       "2                45.0              318.0                     22.0   \n",
       "3                32.0              410.0                     27.0   \n",
       "4                31.0              414.0                     27.0   \n",
       "5                 5.0              106.0                      2.0   \n",
       "6                 3.0              102.0                      2.0   \n",
       "7                 NaN                NaN                      NaN   \n",
       "8                 1.0              103.0                      2.0   \n",
       "9                16.0              204.0                      9.0   \n",
       "\n",
       "  CONGRESSIONALDISTRICT REOPEN_INDICATOR SPECIAL_EVENT_INDICATOR  \\\n",
       "0                  12.0                N                       N   \n",
       "1                  13.0                N                       N   \n",
       "2                   8.0                N                       N   \n",
       "3                   8.0                N                       N   \n",
       "4                   5.0                N                       N   \n",
       "5                  12.0                N                       N   \n",
       "6                  10.0                N                       N   \n",
       "7                   NaN                N                       N   \n",
       "8                  12.0                N                       N   \n",
       "9                  15.0                N                       N   \n",
       "\n",
       "  STANDBY_INDICATOR  TRANSFER_INDICATOR        source  \n",
       "0                 N                   N   chunk10.csv  \n",
       "1                 N                   N   chunk10.csv  \n",
       "2                 N                   N   chunk13.csv  \n",
       "3                 N                   N   chunk14.csv  \n",
       "4                 N                   N   chunk14.csv  \n",
       "5                 N                   N  chunk149.csv  \n",
       "6                 N                   N  chunk149.csv  \n",
       "7                 N                   N  chunk149.csv  \n",
       "8                 N                   N  chunk149.csv  \n",
       "9                 N                   N  chunk149.csv  \n",
       "\n",
       "[10 rows x 32 columns]"
      ]
     },
     "execution_count": 3,
     "metadata": {},
     "output_type": "execute_result"
    }
   ],
   "source": [
    "## call the first 10 rows\n",
    "df.head (10)"
   ]
  },
  {
   "cell_type": "code",
   "execution_count": null,
   "id": "fb59614c",
   "metadata": {},
   "outputs": [],
   "source": [
    "## call the last 5 rows\n"
   ]
  },
  {
   "cell_type": "code",
   "execution_count": null,
   "id": "0953ae2d",
   "metadata": {},
   "outputs": [],
   "source": [
    "## call a 20 random rows\n"
   ]
  },
  {
   "cell_type": "code",
   "execution_count": null,
   "id": "68c744d9",
   "metadata": {},
   "outputs": [],
   "source": [
    "## get basic overview of the data\n",
    "## what datatypes do the different columns hold?\n",
    "## how many rows and columns are there\n"
   ]
  },
  {
   "cell_type": "markdown",
   "id": "f1020f11",
   "metadata": {},
   "source": [
    "### In three separate cells, ingest the 3 other related datasets into this notebook:\n",
    "\n",
    "- ```ems_2019_last_6_months.csv``` into a dataframe named ```ems_19_last_df```\n",
    "- ```ems_2020_first_6_months.csv``` into a dataframe named ```ems_20_first_df```\n",
    "- ```ems_2020_last_6_months.csv``` into a dataframe named ```ems_20_last_df```\n",
    "\n",
    "We want to combine all 4 dataframes so we can run an analysis on the combined dataframes\n"
   ]
  },
  {
   "cell_type": "code",
   "execution_count": null,
   "id": "4272c69a",
   "metadata": {},
   "outputs": [],
   "source": [
    "### For last 6 months of 2019\n",
    "## call the dataframe to see what you have\n",
    "\n"
   ]
  },
  {
   "cell_type": "code",
   "execution_count": null,
   "id": "6f9e53a6",
   "metadata": {},
   "outputs": [],
   "source": [
    "### For first 6 months of 2020\n",
    "## call the dataframe to see what you have\n"
   ]
  },
  {
   "cell_type": "code",
   "execution_count": null,
   "id": "0194fc58",
   "metadata": {},
   "outputs": [],
   "source": [
    "### For last 6 months of 2020\n",
    "## call the dataframe to see what you have\n",
    "\n"
   ]
  },
  {
   "cell_type": "markdown",
   "id": "d62f884e",
   "metadata": {},
   "source": [
    "### Check if all the column headers are identical (down to the same order)\n",
    "We need to confirm they are the same before we combine them\n",
    "\n"
   ]
  },
  {
   "cell_type": "code",
   "execution_count": null,
   "id": "0747658c",
   "metadata": {},
   "outputs": [],
   "source": [
    "## headers for first 6 months of 2019\n"
   ]
  },
  {
   "cell_type": "code",
   "execution_count": null,
   "id": "3054a7b0",
   "metadata": {},
   "outputs": [],
   "source": [
    "## headers for first 6 months of 2020\n"
   ]
  },
  {
   "cell_type": "code",
   "execution_count": null,
   "id": "94e8108f",
   "metadata": {},
   "outputs": [],
   "source": [
    "## check if they are the same\n"
   ]
  },
  {
   "cell_type": "code",
   "execution_count": null,
   "id": "2e0f33b5",
   "metadata": {},
   "outputs": [],
   "source": [
    "## creater headers list for last 6 months of 2019 and 2020\n"
   ]
  },
  {
   "cell_type": "code",
   "execution_count": null,
   "id": "e032ecc2",
   "metadata": {},
   "outputs": [],
   "source": [
    "## check if one of the first is equal to one of the last\n"
   ]
  },
  {
   "cell_type": "code",
   "execution_count": null,
   "id": "92b595f0",
   "metadata": {},
   "outputs": [],
   "source": [
    "## now confirm that the two lasts are the same\n"
   ]
  },
  {
   "cell_type": "markdown",
   "id": "99e9a5b2",
   "metadata": {},
   "source": [
    "## Combine the 4 dataframes\n"
   ]
  },
  {
   "cell_type": "code",
   "execution_count": null,
   "id": "04b2e0c4",
   "metadata": {},
   "outputs": [],
   "source": [
    "## create a list to combine all \n"
   ]
  },
  {
   "cell_type": "code",
   "execution_count": null,
   "id": "eeed6d15",
   "metadata": {},
   "outputs": [],
   "source": [
    "## combine the dfs\n"
   ]
  },
  {
   "cell_type": "markdown",
   "id": "e2799b62",
   "metadata": {},
   "source": [
    "#### Confirm that their row totals add up to the correct number"
   ]
  },
  {
   "cell_type": "code",
   "execution_count": null,
   "id": "0105c8bf",
   "metadata": {},
   "outputs": [],
   "source": [
    "## how many rows does the combined df have\n"
   ]
  },
  {
   "cell_type": "code",
   "execution_count": null,
   "id": "5b30b4a7",
   "metadata": {},
   "outputs": [],
   "source": [
    "## get total rows when you add up all the individual dataframes\n",
    "\n"
   ]
  },
  {
   "cell_type": "markdown",
   "id": "a0fd21e7",
   "metadata": {},
   "source": [
    "## Ingest Massive Dataset\n",
    "\n",
    "Step 1. Open this dataset in Excel first. What happened?\n",
    "\n",
    "Step 2. Open this data set in Pandas."
   ]
  },
  {
   "cell_type": "code",
   "execution_count": null,
   "id": "aa9d11eb",
   "metadata": {},
   "outputs": [],
   "source": [
    "## import global_temps.csv into a df called temps_df\n",
    "\n",
    "\n"
   ]
  },
  {
   "cell_type": "markdown",
   "id": "eb0ac93d",
   "metadata": {},
   "source": [
    "## How many rows of data does this dataset have?"
   ]
  },
  {
   "cell_type": "code",
   "execution_count": null,
   "id": "1aaed466",
   "metadata": {},
   "outputs": [],
   "source": [
    "## 2_906_327"
   ]
  },
  {
   "cell_type": "markdown",
   "id": "c4cf8408",
   "metadata": {},
   "source": [
    "## Targeting an Excel sheet\n",
    "\n",
    "We need the Customs and Border Protection data in this ```multi-data.xlsx``` workbook.\n",
    "\n",
    "Note that this is an excerpt of the actual CBP data."
   ]
  },
  {
   "cell_type": "code",
   "execution_count": null,
   "id": "51b4ce7b",
   "metadata": {},
   "outputs": [],
   "source": [
    "### import it here\n"
   ]
  },
  {
   "cell_type": "code",
   "execution_count": null,
   "id": "63736197",
   "metadata": {},
   "outputs": [],
   "source": [
    "## call the top 15 rows\n"
   ]
  },
  {
   "cell_type": "code",
   "execution_count": null,
   "id": "6ff6132b",
   "metadata": {},
   "outputs": [],
   "source": []
  }
 ],
 "metadata": {
  "kernelspec": {
   "display_name": "Python 3 (ipykernel)",
   "language": "python",
   "name": "python3"
  },
  "language_info": {
   "codemirror_mode": {
    "name": "ipython",
    "version": 3
   },
   "file_extension": ".py",
   "mimetype": "text/x-python",
   "name": "python",
   "nbconvert_exporter": "python",
   "pygments_lexer": "ipython3",
   "version": "3.9.7"
  }
 },
 "nbformat": 4,
 "nbformat_minor": 5
}
